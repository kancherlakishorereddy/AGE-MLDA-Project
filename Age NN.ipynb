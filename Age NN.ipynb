{
 "cells": [
  {
   "cell_type": "code",
   "execution_count": 1,
   "id": "a4fd583b",
   "metadata": {},
   "outputs": [],
   "source": [
    "import pandas as pd\n",
    "import numpy as np\n",
    "import matplotlib.pyplot as plt\n",
    "from sklearn.model_selection import train_test_split\n",
    "from sklearn.preprocessing import StandardScaler\n",
    "from keras.models import Sequential\n",
    "from keras.layers import Dense\n",
    "from keras.layers import Dropout\n",
    "from keras.utils import np_utils\n",
    "from keras.layers import Flatten\n",
    "from keras.layers.convolutional import Conv2D\n",
    "from keras.layers.convolutional import MaxPooling2D"
   ]
  },
  {
   "cell_type": "code",
   "execution_count": 2,
   "id": "e686e839",
   "metadata": {},
   "outputs": [],
   "source": [
    "df = pd.read_csv('age_gender.csv');"
   ]
  },
  {
   "cell_type": "code",
   "execution_count": 3,
   "id": "d5ac8c3c",
   "metadata": {},
   "outputs": [],
   "source": [
    "X = pd.DataFrame(df['pixels'].str.split(' ', 48*48-1, expand=True)).astype(float)\n",
    "y = df['age']"
   ]
  },
  {
   "cell_type": "code",
   "execution_count": 4,
   "id": "b37a00ab",
   "metadata": {},
   "outputs": [],
   "source": [
    "X_train, X_test, y_train, y_test = train_test_split(X, y, test_size=0.33, random_state=42)"
   ]
  },
  {
   "cell_type": "code",
   "execution_count": 5,
   "id": "a58ad062",
   "metadata": {},
   "outputs": [],
   "source": [
    "X_train = X_train / 255\n",
    "X_test = X_test / 255\n",
    "num_pixels = X_test.shape[1]"
   ]
  },
  {
   "cell_type": "code",
   "execution_count": 6,
   "id": "a73f5ffd",
   "metadata": {},
   "outputs": [],
   "source": [
    "# define baseline model\n",
    "def baseline_model():\n",
    "    # create model\n",
    "    model = Sequential()\n",
    "    model.add(Dense(num_pixels, input_dim=num_pixels, kernel_initializer='normal', activation='relu'))\n",
    "    model.add(Dense(1, kernel_initializer='normal', activation='relu'))\n",
    "    # Compile model\n",
    "    model.compile(loss='mse', optimizer='adam', metrics=['mae'])\n",
    "    return model"
   ]
  },
  {
   "cell_type": "code",
   "execution_count": 7,
   "id": "e4726c2f",
   "metadata": {},
   "outputs": [
    {
     "name": "stdout",
     "output_type": "stream",
     "text": [
      "Epoch 1/8\n",
      "187/187 - 19s - loss: 398.3602 - mae: 15.2533 - val_loss: 330.3788 - val_mae: 13.9946\n",
      "Epoch 2/8\n",
      "187/187 - 7s - loss: 290.2185 - mae: 13.0064 - val_loss: 319.2092 - val_mae: 13.2436\n",
      "Epoch 3/8\n",
      "187/187 - 7s - loss: 273.7348 - mae: 12.5612 - val_loss: 324.4355 - val_mae: 14.4331\n",
      "Epoch 4/8\n",
      "187/187 - 6s - loss: 257.4540 - mae: 12.1550 - val_loss: 382.7491 - val_mae: 14.2685\n",
      "Epoch 5/8\n",
      "187/187 - 6s - loss: 246.9082 - mae: 11.8543 - val_loss: 328.5776 - val_mae: 13.0211\n",
      "Epoch 6/8\n",
      "187/187 - 7s - loss: 231.6847 - mae: 11.3983 - val_loss: 277.4071 - val_mae: 11.9911\n",
      "Epoch 7/8\n",
      "187/187 - 7s - loss: 224.5872 - mae: 11.2405 - val_loss: 240.2673 - val_mae: 11.6999\n",
      "Epoch 8/8\n",
      "187/187 - 7s - loss: 215.8600 - mae: 10.9737 - val_loss: 258.0807 - val_mae: 11.4947\n"
     ]
    },
    {
     "data": {
      "text/plain": [
       "<keras.callbacks.History at 0x1ec8a67e250>"
      ]
     },
     "execution_count": 7,
     "metadata": {},
     "output_type": "execute_result"
    }
   ],
   "source": [
    "model = baseline_model()\n",
    "model.fit(X_train, y_train, validation_split=0.25, batch_size=64, epochs=8, verbose=2)"
   ]
  },
  {
   "cell_type": "code",
   "execution_count": 8,
   "id": "2cb26299",
   "metadata": {},
   "outputs": [],
   "source": [
    "scores = model.evaluate(X_test, y_test, verbose=0)"
   ]
  },
  {
   "cell_type": "code",
   "execution_count": 9,
   "id": "4614ba54",
   "metadata": {},
   "outputs": [
    {
     "name": "stdout",
     "output_type": "stream",
     "text": [
      "MSE:   242.60760498046875\n",
      "MAE:   11.169106483459473\n"
     ]
    }
   ],
   "source": [
    "print(\"MSE:   \" + str(scores[0]) + \"\\nMAE:   \" + str(scores[1]))"
   ]
  },
  {
   "cell_type": "code",
   "execution_count": 10,
   "id": "54b698a8",
   "metadata": {},
   "outputs": [],
   "source": [
    "X_train = X_train.values.reshape(X_train.shape[0], 48, 48, 1).astype('float32')\n",
    "X_test = X_test.values.reshape(X_test.shape[0], 48, 48, 1).astype('float32')"
   ]
  },
  {
   "cell_type": "code",
   "execution_count": 11,
   "id": "f4333f59",
   "metadata": {},
   "outputs": [],
   "source": [
    "def cnn_model():\n",
    "    # create model\n",
    "    model = Sequential()\n",
    "    model.add(Conv2D(32, (5, 5), input_shape=(48, 48, 1), activation='relu'))\n",
    "    model.add(MaxPooling2D(pool_size=(2, 2)))\n",
    "    model.add(Conv2D(16, (3, 3), activation='relu'))\n",
    "    model.add(MaxPooling2D(pool_size=(2, 2)))\n",
    "    model.add(Flatten())\n",
    "    model.add(Dense(128, activation='relu'))\n",
    "    model.add(Dropout(0.5))\n",
    "    model.add(Dense(1, activation='relu'))\n",
    "    # Compile model\n",
    "    model.compile(loss='mse', optimizer='adam', metrics=['mae'])\n",
    "    return model"
   ]
  },
  {
   "cell_type": "code",
   "execution_count": 12,
   "id": "2c0fda65",
   "metadata": {
    "scrolled": true
   },
   "outputs": [
    {
     "name": "stdout",
     "output_type": "stream",
     "text": [
      "Epoch 1/10\n",
      "398/398 - 14s - loss: 460.4507 - mae: 16.5060 - val_loss: 336.7825 - val_mae: 14.7513\n",
      "Epoch 2/10\n",
      "398/398 - 15s - loss: 297.5114 - mae: 13.2668 - val_loss: 252.4508 - val_mae: 12.5716\n",
      "Epoch 3/10\n",
      "398/398 - 15s - loss: 262.2530 - mae: 12.3620 - val_loss: 278.9033 - val_mae: 12.2629\n",
      "Epoch 4/10\n",
      "398/398 - 15s - loss: 252.6829 - mae: 12.0801 - val_loss: 226.8440 - val_mae: 11.1653\n",
      "Epoch 5/10\n",
      "398/398 - 16s - loss: 233.4110 - mae: 11.5872 - val_loss: 258.6450 - val_mae: 11.7621\n",
      "Epoch 6/10\n",
      "398/398 - 15s - loss: 231.9062 - mae: 11.5057 - val_loss: 195.7573 - val_mae: 10.3399\n",
      "Epoch 7/10\n",
      "398/398 - 14s - loss: 216.5215 - mae: 11.0781 - val_loss: 206.8582 - val_mae: 10.4678\n",
      "Epoch 8/10\n",
      "398/398 - 14s - loss: 206.4963 - mae: 10.7946 - val_loss: 183.6234 - val_mae: 9.9120\n",
      "Epoch 9/10\n",
      "398/398 - 14s - loss: 193.4702 - mae: 10.4063 - val_loss: 163.3080 - val_mae: 9.3901\n",
      "Epoch 10/10\n",
      "398/398 - 15s - loss: 184.7616 - mae: 10.1643 - val_loss: 151.1470 - val_mae: 9.0960\n"
     ]
    },
    {
     "data": {
      "text/plain": [
       "<keras.callbacks.History at 0x1ec8a47c850>"
      ]
     },
     "execution_count": 12,
     "metadata": {},
     "output_type": "execute_result"
    }
   ],
   "source": [
    "model = cnn_model()\n",
    "model.fit(X_train, y_train, validation_split=0.2, batch_size=32, epochs=10, verbose=2)"
   ]
  },
  {
   "cell_type": "code",
   "execution_count": 13,
   "id": "841ad935",
   "metadata": {},
   "outputs": [
    {
     "name": "stdout",
     "output_type": "stream",
     "text": [
      "MSE:   145.17715454101562\n",
      "MAE:   8.955389022827148\n"
     ]
    }
   ],
   "source": [
    "scores = model.evaluate(X_test, y_test, verbose=0)\n",
    "print(\"MSE:   \" + str(scores[0]) + \"\\nMAE:   \" + str(scores[1]))"
   ]
  },
  {
   "cell_type": "code",
   "execution_count": 14,
   "id": "166c07f8",
   "metadata": {},
   "outputs": [
    {
     "data": {
      "text/plain": [
       "0.6304108236350279"
      ]
     },
     "execution_count": 14,
     "metadata": {},
     "output_type": "execute_result"
    }
   ],
   "source": [
    "from sklearn.metrics import r2_score\n",
    "r2_score(y_test, model.predict(X_test))"
   ]
  },
  {
   "cell_type": "code",
   "execution_count": null,
   "id": "32419440",
   "metadata": {},
   "outputs": [],
   "source": []
  }
 ],
 "metadata": {
  "kernelspec": {
   "display_name": "Python 3",
   "language": "python",
   "name": "python3"
  },
  "language_info": {
   "codemirror_mode": {
    "name": "ipython",
    "version": 3
   },
   "file_extension": ".py",
   "mimetype": "text/x-python",
   "name": "python",
   "nbconvert_exporter": "python",
   "pygments_lexer": "ipython3",
   "version": "3.8.8"
  }
 },
 "nbformat": 4,
 "nbformat_minor": 5
}
