{
 "cells": [
  {
   "cell_type": "code",
   "execution_count": 1,
   "id": "d7a8d025",
   "metadata": {},
   "outputs": [],
   "source": [
    "import pandas as pd\n",
    "import numpy as np\n",
    "import matplotlib.pyplot as plt\n",
    "from sklearn.model_selection import train_test_split\n",
    "from sklearn.preprocessing import StandardScaler\n",
    "from sklearn import metrics\n",
    "from keras.models import Sequential\n",
    "from keras.layers import Dense\n",
    "from keras.layers import Dropout\n",
    "from keras.utils import np_utils\n",
    "from keras.layers import Flatten\n",
    "from keras.layers.convolutional import Conv2D\n",
    "from keras.layers.convolutional import MaxPooling2D"
   ]
  },
  {
   "cell_type": "code",
   "execution_count": 2,
   "id": "22e7538b",
   "metadata": {},
   "outputs": [],
   "source": [
    "df = pd.read_csv('age_gender.csv');"
   ]
  },
  {
   "cell_type": "code",
   "execution_count": 3,
   "id": "f451934d",
   "metadata": {},
   "outputs": [],
   "source": [
    "X = pd.DataFrame(df['pixels'].str.split(' ', 48*48-1, expand=True)).astype(float)\n",
    "y = df['gender']"
   ]
  },
  {
   "cell_type": "code",
   "execution_count": 4,
   "id": "0cb2ccb7",
   "metadata": {},
   "outputs": [],
   "source": [
    "X_train, X_test, y_train, y_test = train_test_split(X, y, test_size=0.33, random_state=42)"
   ]
  },
  {
   "cell_type": "code",
   "execution_count": 5,
   "id": "17bdd75b",
   "metadata": {},
   "outputs": [],
   "source": [
    "X_train = X_train / 255\n",
    "X_test = X_test / 255\n",
    "num_pixels = X_test.shape[1]"
   ]
  },
  {
   "cell_type": "code",
   "execution_count": 6,
   "id": "dddc2bf4",
   "metadata": {},
   "outputs": [],
   "source": [
    "y_train = np_utils.to_categorical(y_train)\n",
    "y_test = np_utils.to_categorical(y_test)\n",
    "num_classes = y_test.shape[1]"
   ]
  },
  {
   "cell_type": "code",
   "execution_count": 7,
   "id": "5700c945",
   "metadata": {},
   "outputs": [],
   "source": [
    "def acrcy(y_predicted, y_actual):\n",
    "    y_predicted = np.array(pd.DataFrame(y_predicted).idxmax(1))\n",
    "    y_actual = np.array(pd.DataFrame(y_actual).idxmax(1))\n",
    "    y_actl = pd.Series(y_actual, name='Actual')\n",
    "    y_pred = pd.Series(y_predicted, name='Predicted')\n",
    "    #create confusion matrix\n",
    "    print(pd.crosstab(y_actl, y_pred))\n",
    "    #print accuracy of model\n",
    "    print(\"acccuracy: \" + str(metrics.accuracy_score(y_actual, y_predicted)))"
   ]
  },
  {
   "cell_type": "code",
   "execution_count": 8,
   "id": "14bd15f0",
   "metadata": {},
   "outputs": [],
   "source": [
    "# define baseline model\n",
    "def baseline_model():\n",
    "    # create model\n",
    "    model = Sequential()\n",
    "    model.add(Dense(num_pixels, input_dim=num_pixels, kernel_initializer='normal', activation='relu'))\n",
    "    model.add(Dense(num_classes, kernel_initializer='normal', activation='softmax'))\n",
    "    # Compile model\n",
    "    model.compile(loss='categorical_crossentropy', optimizer='adam', metrics=['accuracy'])\n",
    "    return model"
   ]
  },
  {
   "cell_type": "code",
   "execution_count": 9,
   "id": "2c2db99e",
   "metadata": {},
   "outputs": [
    {
     "name": "stdout",
     "output_type": "stream",
     "text": [
      "Epoch 1/8\n",
      "187/187 - 20s - loss: 1.4500 - accuracy: 0.6930 - val_loss: 0.4465 - val_accuracy: 0.7975\n",
      "Epoch 2/8\n",
      "187/187 - 6s - loss: 0.4769 - accuracy: 0.7738 - val_loss: 1.0129 - val_accuracy: 0.5560\n",
      "Epoch 3/8\n",
      "187/187 - 6s - loss: 0.4480 - accuracy: 0.7972 - val_loss: 0.7707 - val_accuracy: 0.6943\n",
      "Epoch 4/8\n",
      "187/187 - 6s - loss: 0.4209 - accuracy: 0.8097 - val_loss: 0.3728 - val_accuracy: 0.8343\n",
      "Epoch 5/8\n",
      "187/187 - 6s - loss: 0.4365 - accuracy: 0.8019 - val_loss: 0.6671 - val_accuracy: 0.7079\n",
      "Epoch 6/8\n",
      "187/187 - 7s - loss: 0.4022 - accuracy: 0.8201 - val_loss: 0.4123 - val_accuracy: 0.8139\n",
      "Epoch 7/8\n",
      "187/187 - 7s - loss: 0.3921 - accuracy: 0.8218 - val_loss: 0.3790 - val_accuracy: 0.8320\n",
      "Epoch 8/8\n",
      "187/187 - 7s - loss: 0.4065 - accuracy: 0.8144 - val_loss: 0.4062 - val_accuracy: 0.8104\n"
     ]
    },
    {
     "data": {
      "text/plain": [
       "<keras.callbacks.History at 0x24bee70a460>"
      ]
     },
     "execution_count": 9,
     "metadata": {},
     "output_type": "execute_result"
    }
   ],
   "source": [
    "model = baseline_model()\n",
    "model.fit(X_train, y_train, validation_split=0.25, batch_size=64, epochs=8, verbose=2)"
   ]
  },
  {
   "cell_type": "code",
   "execution_count": 10,
   "id": "2900ce26",
   "metadata": {},
   "outputs": [],
   "source": [
    "res = model.predict(X_test)"
   ]
  },
  {
   "cell_type": "code",
   "execution_count": 11,
   "id": "f89efd52",
   "metadata": {},
   "outputs": [
    {
     "name": "stdout",
     "output_type": "stream",
     "text": [
      "Predicted     0     1\n",
      "Actual               \n",
      "0          3808   295\n",
      "1          1282  2438\n",
      "acccuracy: 0.7984149303336316\n"
     ]
    }
   ],
   "source": [
    "acrcy(res, y_test)"
   ]
  },
  {
   "cell_type": "code",
   "execution_count": 12,
   "id": "9e3e846b",
   "metadata": {},
   "outputs": [],
   "source": [
    "X_train = X_train.values.reshape(X_train.shape[0], 48, 48, 1).astype('float32')\n",
    "X_test = X_test.values.reshape(X_test.shape[0], 48, 48, 1).astype('float32')"
   ]
  },
  {
   "cell_type": "code",
   "execution_count": 13,
   "id": "42b97abb",
   "metadata": {},
   "outputs": [],
   "source": [
    "def cnn_model():\n",
    "    # create model\n",
    "    model = Sequential()\n",
    "    model.add(Conv2D(32, (5, 5), input_shape=(48, 48, 1), activation='relu'))\n",
    "    model.add(MaxPooling2D(pool_size=(2, 2)))\n",
    "    model.add(Conv2D(16, (3, 3), activation='relu'))\n",
    "    model.add(MaxPooling2D(pool_size=(2, 2)))\n",
    "    model.add(Dropout(0.4))\n",
    "    model.add(Flatten())\n",
    "    model.add(Dense(128, activation='relu'))\n",
    "    model.add(Dense(50, activation='relu'))\n",
    "    model.add(Dropout(0.4))\n",
    "    model.add(Dense(num_classes, activation='softmax'))\n",
    "    # Compile model\n",
    "    model.compile(loss='binary_crossentropy', optimizer='adam', metrics=['accuracy'])\n",
    "    return model"
   ]
  },
  {
   "cell_type": "code",
   "execution_count": 14,
   "id": "7fa2bf95",
   "metadata": {},
   "outputs": [
    {
     "name": "stdout",
     "output_type": "stream",
     "text": [
      "Epoch 1/12\n",
      "100/100 - 23s - loss: 0.5932 - accuracy: 0.6800 - val_loss: 0.4316 - val_accuracy: 0.7970\n",
      "Epoch 2/12\n",
      "100/100 - 12s - loss: 0.4398 - accuracy: 0.8022 - val_loss: 0.3681 - val_accuracy: 0.8417\n",
      "Epoch 3/12\n",
      "100/100 - 14s - loss: 0.3945 - accuracy: 0.8215 - val_loss: 0.3590 - val_accuracy: 0.8448\n",
      "Epoch 4/12\n",
      "100/100 - 14s - loss: 0.3713 - accuracy: 0.8322 - val_loss: 0.3208 - val_accuracy: 0.8621\n",
      "Epoch 5/12\n",
      "100/100 - 14s - loss: 0.3577 - accuracy: 0.8408 - val_loss: 0.3036 - val_accuracy: 0.8618\n",
      "Epoch 6/12\n",
      "100/100 - 14s - loss: 0.3440 - accuracy: 0.8474 - val_loss: 0.2997 - val_accuracy: 0.8590\n",
      "Epoch 7/12\n",
      "100/100 - 14s - loss: 0.3333 - accuracy: 0.8544 - val_loss: 0.2932 - val_accuracy: 0.8621\n",
      "Epoch 8/12\n",
      "100/100 - 14s - loss: 0.3336 - accuracy: 0.8519 - val_loss: 0.2882 - val_accuracy: 0.8697\n",
      "Epoch 9/12\n",
      "100/100 - 14s - loss: 0.3188 - accuracy: 0.8580 - val_loss: 0.2804 - val_accuracy: 0.8722\n",
      "Epoch 10/12\n",
      "100/100 - 15s - loss: 0.3054 - accuracy: 0.8688 - val_loss: 0.2733 - val_accuracy: 0.8829\n",
      "Epoch 11/12\n",
      "100/100 - 14s - loss: 0.2960 - accuracy: 0.8704 - val_loss: 0.2773 - val_accuracy: 0.8728\n",
      "Epoch 12/12\n",
      "100/100 - 14s - loss: 0.2938 - accuracy: 0.8720 - val_loss: 0.2647 - val_accuracy: 0.8816\n"
     ]
    },
    {
     "data": {
      "text/plain": [
       "<keras.callbacks.History at 0x24beeb52730>"
      ]
     },
     "execution_count": 14,
     "metadata": {},
     "output_type": "execute_result"
    }
   ],
   "source": [
    "model = cnn_model()\n",
    "model.fit(X_train, y_train, validation_split=0.2, batch_size=128, epochs=12, verbose=2)"
   ]
  },
  {
   "cell_type": "code",
   "execution_count": 15,
   "id": "b2f9a220",
   "metadata": {},
   "outputs": [],
   "source": [
    "res = model.predict(X_test)"
   ]
  },
  {
   "cell_type": "code",
   "execution_count": 16,
   "id": "137ea162",
   "metadata": {},
   "outputs": [
    {
     "name": "stdout",
     "output_type": "stream",
     "text": [
      "Predicted     0     1\n",
      "Actual               \n",
      "0          3620   483\n",
      "1           456  3264\n",
      "acccuracy: 0.8799693212322638\n"
     ]
    }
   ],
   "source": [
    "acrcy(res, y_test)"
   ]
  },
  {
   "cell_type": "code",
   "execution_count": null,
   "id": "fb870fbd",
   "metadata": {},
   "outputs": [],
   "source": []
  }
 ],
 "metadata": {
  "kernelspec": {
   "display_name": "Python 3",
   "language": "python",
   "name": "python3"
  },
  "language_info": {
   "codemirror_mode": {
    "name": "ipython",
    "version": 3
   },
   "file_extension": ".py",
   "mimetype": "text/x-python",
   "name": "python",
   "nbconvert_exporter": "python",
   "pygments_lexer": "ipython3",
   "version": "3.8.8"
  }
 },
 "nbformat": 4,
 "nbformat_minor": 5
}
