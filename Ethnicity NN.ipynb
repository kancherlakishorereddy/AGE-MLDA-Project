{
 "cells": [
  {
   "cell_type": "code",
   "execution_count": 1,
   "id": "dd8b6a5b",
   "metadata": {},
   "outputs": [],
   "source": [
    "import pandas as pd\n",
    "import numpy as np\n",
    "import matplotlib.pyplot as plt\n",
    "from sklearn.model_selection import train_test_split\n",
    "from sklearn.preprocessing import StandardScaler\n",
    "from sklearn import metrics\n",
    "from keras.models import Sequential\n",
    "from keras.layers import Dense\n",
    "from keras.layers import Dropout\n",
    "from keras.utils import np_utils\n",
    "from keras.layers import Flatten\n",
    "from keras.layers.convolutional import Conv2D\n",
    "from keras.layers.convolutional import MaxPooling2D"
   ]
  },
  {
   "cell_type": "code",
   "execution_count": 2,
   "id": "10396fbe",
   "metadata": {},
   "outputs": [],
   "source": [
    "df = pd.read_csv('age_gender.csv');"
   ]
  },
  {
   "cell_type": "code",
   "execution_count": 3,
   "id": "bbd7a36f",
   "metadata": {},
   "outputs": [],
   "source": [
    "X = pd.DataFrame(df['pixels'].str.split(' ', 48*48-1, expand=True)).astype(float)\n",
    "y = df['ethnicity']"
   ]
  },
  {
   "cell_type": "code",
   "execution_count": 4,
   "id": "51bd61f9",
   "metadata": {},
   "outputs": [],
   "source": [
    "X_train, X_test, y_train, y_test = train_test_split(X, y, test_size=0.33, random_state=42)"
   ]
  },
  {
   "cell_type": "code",
   "execution_count": 5,
   "id": "b42eb198",
   "metadata": {},
   "outputs": [],
   "source": [
    "X_train = X_train / 255\n",
    "X_test = X_test / 255\n",
    "num_pixels = X_test.shape[1]"
   ]
  },
  {
   "cell_type": "code",
   "execution_count": 6,
   "id": "a134fbc2",
   "metadata": {},
   "outputs": [],
   "source": [
    "y_train = np_utils.to_categorical(y_train)\n",
    "y_test = np_utils.to_categorical(y_test)\n",
    "num_classes = y_test.shape[1]"
   ]
  },
  {
   "cell_type": "code",
   "execution_count": 7,
   "id": "a4f8720a",
   "metadata": {},
   "outputs": [],
   "source": [
    "def acrcy(y_predicted, y_actual):\n",
    "    y_predicted = np.array(pd.DataFrame(y_predicted).idxmax(1))\n",
    "    y_actual = np.array(pd.DataFrame(y_actual).idxmax(1))\n",
    "    y_actl = pd.Series(y_actual, name='Actual')\n",
    "    y_pred = pd.Series(y_predicted, name='Predicted')\n",
    "    #create confusion matrix\n",
    "    print(pd.crosstab(y_actl, y_pred))\n",
    "    #print accuracy of model\n",
    "    print(\"acccuracy: \" + str(metrics.accuracy_score(y_actual, y_predicted)))"
   ]
  },
  {
   "cell_type": "code",
   "execution_count": 8,
   "id": "f5f54a06",
   "metadata": {},
   "outputs": [],
   "source": [
    "# define baseline model\n",
    "def baseline_model():\n",
    "    # create model\n",
    "    model = Sequential()\n",
    "    model.add(Dense(num_pixels, input_dim=num_pixels, kernel_initializer='normal', activation='relu'))\n",
    "    model.add(Dense(num_classes, kernel_initializer='normal', activation='softmax'))\n",
    "    # Compile model\n",
    "    model.compile(loss='categorical_crossentropy', optimizer='adam', metrics=['accuracy'])\n",
    "    return model"
   ]
  },
  {
   "cell_type": "code",
   "execution_count": 9,
   "id": "6460d854",
   "metadata": {},
   "outputs": [
    {
     "name": "stdout",
     "output_type": "stream",
     "text": [
      "Epoch 1/8\n",
      "94/94 - 8s - loss: 3.2152 - accuracy: 0.4616 - val_loss: 1.2030 - val_accuracy: 0.5387\n",
      "Epoch 2/8\n",
      "94/94 - 4s - loss: 1.0668 - accuracy: 0.6071 - val_loss: 1.1013 - val_accuracy: 0.5820\n",
      "Epoch 3/8\n",
      "94/94 - 4s - loss: 1.0481 - accuracy: 0.6199 - val_loss: 1.0299 - val_accuracy: 0.6336\n",
      "Epoch 4/8\n",
      "94/94 - 4s - loss: 0.9955 - accuracy: 0.6381 - val_loss: 1.1410 - val_accuracy: 0.5633\n",
      "Epoch 5/8\n",
      "94/94 - 4s - loss: 0.9563 - accuracy: 0.6581 - val_loss: 1.0477 - val_accuracy: 0.6356\n",
      "Epoch 6/8\n",
      "94/94 - 4s - loss: 0.9598 - accuracy: 0.6633 - val_loss: 1.0811 - val_accuracy: 0.6273\n",
      "Epoch 7/8\n",
      "94/94 - 4s - loss: 0.9163 - accuracy: 0.6799 - val_loss: 0.9711 - val_accuracy: 0.6401\n",
      "Epoch 8/8\n",
      "94/94 - 4s - loss: 0.8950 - accuracy: 0.6805 - val_loss: 0.9764 - val_accuracy: 0.6547\n"
     ]
    },
    {
     "data": {
      "text/plain": [
       "<keras.callbacks.History at 0x1fcc7ea5f70>"
      ]
     },
     "execution_count": 9,
     "metadata": {},
     "output_type": "execute_result"
    }
   ],
   "source": [
    "model = baseline_model()\n",
    "model.fit(X_train, y_train, validation_split=0.25, batch_size=128, epochs=8, verbose=2)"
   ]
  },
  {
   "cell_type": "code",
   "execution_count": 10,
   "id": "05a57aea",
   "metadata": {},
   "outputs": [],
   "source": [
    "res = model.predict(X_test)"
   ]
  },
  {
   "cell_type": "code",
   "execution_count": 11,
   "id": "f651d589",
   "metadata": {},
   "outputs": [
    {
     "name": "stdout",
     "output_type": "stream",
     "text": [
      "Predicted     0    1    2    3  4\n",
      "Actual                           \n",
      "0          3141   52  116   66  0\n",
      "1           529  812   60   73  0\n",
      "2           413   13  684   12  0\n",
      "3           728   42   56  470  0\n",
      "4           449   27   37   42  1\n",
      "acccuracy: 0.6529464399846606\n"
     ]
    }
   ],
   "source": [
    "acrcy(res, y_test)"
   ]
  },
  {
   "cell_type": "code",
   "execution_count": 12,
   "id": "7cd3d500",
   "metadata": {},
   "outputs": [],
   "source": [
    "X_train = X_train.values.reshape(X_train.shape[0], 48, 48, 1).astype('float32')\n",
    "X_test = X_test.values.reshape(X_test.shape[0], 48, 48, 1).astype('float32')"
   ]
  },
  {
   "cell_type": "code",
   "execution_count": 13,
   "id": "2e0f1573",
   "metadata": {},
   "outputs": [],
   "source": [
    "def cnn_model():\n",
    "    # create model\n",
    "    model = Sequential()\n",
    "    model.add(Conv2D(32, (3, 3), input_shape=(48, 48, 1), activation='relu'))\n",
    "    model.add(MaxPooling2D(pool_size=(2, 2)))\n",
    "    model.add(Flatten())\n",
    "    model.add(Dense(160, activation='relu'))\n",
    "    model.add(Dropout(0.3))\n",
    "    model.add(Dense(num_classes, activation='softmax'))\n",
    "    # Compile model\n",
    "    model.compile(loss='categorical_crossentropy', optimizer='adam', metrics=['accuracy'])\n",
    "    return model"
   ]
  },
  {
   "cell_type": "code",
   "execution_count": 14,
   "id": "5467196e",
   "metadata": {},
   "outputs": [
    {
     "name": "stdout",
     "output_type": "stream",
     "text": [
      "Epoch 1/12\n",
      "100/100 - 11s - loss: 1.2828 - accuracy: 0.5100 - val_loss: 1.0530 - val_accuracy: 0.6062\n",
      "Epoch 2/12\n",
      "100/100 - 11s - loss: 0.9680 - accuracy: 0.6544 - val_loss: 0.8403 - val_accuracy: 0.7114\n",
      "Epoch 3/12\n",
      "100/100 - 11s - loss: 0.8385 - accuracy: 0.7058 - val_loss: 0.8032 - val_accuracy: 0.7240\n",
      "Epoch 4/12\n",
      "100/100 - 11s - loss: 0.7757 - accuracy: 0.7331 - val_loss: 0.7771 - val_accuracy: 0.7343\n",
      "Epoch 5/12\n",
      "100/100 - 11s - loss: 0.7267 - accuracy: 0.7498 - val_loss: 0.7198 - val_accuracy: 0.7561\n",
      "Epoch 6/12\n",
      "100/100 - 11s - loss: 0.6835 - accuracy: 0.7627 - val_loss: 0.7089 - val_accuracy: 0.7605\n",
      "Epoch 7/12\n",
      "100/100 - 11s - loss: 0.6486 - accuracy: 0.7762 - val_loss: 0.6975 - val_accuracy: 0.7624\n",
      "Epoch 8/12\n",
      "100/100 - 11s - loss: 0.6252 - accuracy: 0.7843 - val_loss: 0.6989 - val_accuracy: 0.7586\n",
      "Epoch 9/12\n",
      "100/100 - 11s - loss: 0.5998 - accuracy: 0.7948 - val_loss: 0.7076 - val_accuracy: 0.7617\n",
      "Epoch 10/12\n",
      "100/100 - 12s - loss: 0.5679 - accuracy: 0.8057 - val_loss: 0.6925 - val_accuracy: 0.7592\n",
      "Epoch 11/12\n",
      "100/100 - 11s - loss: 0.5507 - accuracy: 0.8131 - val_loss: 0.6878 - val_accuracy: 0.7727\n",
      "Epoch 12/12\n",
      "100/100 - 11s - loss: 0.5236 - accuracy: 0.8218 - val_loss: 0.6840 - val_accuracy: 0.7702\n"
     ]
    },
    {
     "data": {
      "text/plain": [
       "<keras.callbacks.History at 0x1fbaccd5b80>"
      ]
     },
     "execution_count": 14,
     "metadata": {},
     "output_type": "execute_result"
    }
   ],
   "source": [
    "model = cnn_model()\n",
    "model.fit(X_train, y_train, validation_split=0.2, batch_size=128, epochs=12, verbose=2)"
   ]
  },
  {
   "cell_type": "code",
   "execution_count": 15,
   "id": "ceb24ecd",
   "metadata": {},
   "outputs": [],
   "source": [
    "res = model.predict(X_test)"
   ]
  },
  {
   "cell_type": "code",
   "execution_count": 16,
   "id": "c5b30fe2",
   "metadata": {},
   "outputs": [
    {
     "name": "stdout",
     "output_type": "stream",
     "text": [
      "Predicted     0     1    2    3   4\n",
      "Actual                             \n",
      "0          3035    81  101  145  13\n",
      "1           208  1160   30   64  12\n",
      "2           188    29  871   25   9\n",
      "3           285    73   28  887  23\n",
      "4           350    47   28   96  35\n",
      "acccuracy: 0.7654352550172568\n"
     ]
    }
   ],
   "source": [
    "acrcy(res, y_test)"
   ]
  }
 ],
 "metadata": {
  "kernelspec": {
   "display_name": "Python 3",
   "language": "python",
   "name": "python3"
  },
  "language_info": {
   "codemirror_mode": {
    "name": "ipython",
    "version": 3
   },
   "file_extension": ".py",
   "mimetype": "text/x-python",
   "name": "python",
   "nbconvert_exporter": "python",
   "pygments_lexer": "ipython3",
   "version": "3.8.8"
  }
 },
 "nbformat": 4,
 "nbformat_minor": 5
}
